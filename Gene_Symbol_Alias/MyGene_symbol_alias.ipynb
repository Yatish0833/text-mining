{
 "cells": [
  {
   "cell_type": "code",
   "execution_count": 1,
   "id": "2b27ff39",
   "metadata": {},
   "outputs": [
    {
     "name": "stderr",
     "output_type": "stream",
     "text": [
      "C:\\Users\\devsa\\anaconda3\\lib\\site-packages\\requests\\__init__.py:102: RequestsDependencyWarning: urllib3 (1.26.9) or chardet (5.2.0)/charset_normalizer (2.0.4) doesn't match a supported version!\n",
      "  warnings.warn(\"urllib3 ({}) or chardet ({})/charset_normalizer ({}) doesn't match a supported \"\n"
     ]
    }
   ],
   "source": [
    "import pandas as pd\n",
    "import requests\n",
    "import csv\n",
    "import time"
   ]
  },
  {
   "cell_type": "code",
   "execution_count": 2,
   "id": "b4cc96d2",
   "metadata": {},
   "outputs": [],
   "source": [
    "df = pd.read_csv('pubmed_concepts.csv')"
   ]
  },
  {
   "cell_type": "code",
   "execution_count": 3,
   "id": "bb8c9eae",
   "metadata": {},
   "outputs": [],
   "source": [
    "# Split the 'gene_id' column by semicolon and count the number of values in each row\n",
    "df['gene_id_count'] = df['gene_id'].str.split(';').apply(lambda x: len(x))\n",
    "\n",
    "# Filter rows where 'gene_id_count' is greater than 1\n",
    "result = df[df['gene_id_count'] > 1]"
   ]
  },
  {
   "cell_type": "code",
   "execution_count": 4,
   "id": "ab797882",
   "metadata": {},
   "outputs": [],
   "source": [
    "# Filter rows where 'gene_id_count' is equal to 1\n",
    "filtered_df = df[df['gene_id_count'] == 1]\n",
    "\n",
    "# Drop the 'gene_id_count' column, which was used for filtering\n",
    "filtered_df = filtered_df.drop(columns=['gene_id_count'])"
   ]
  },
  {
   "cell_type": "code",
   "execution_count": 5,
   "id": "005560ac",
   "metadata": {},
   "outputs": [],
   "source": [
    "#Save to csv\n",
    "filtered_df.to_csv('filtered_gene_data.csv', index = False)"
   ]
  },
  {
   "cell_type": "code",
   "execution_count": 6,
   "id": "fc70de52",
   "metadata": {},
   "outputs": [],
   "source": [
    "## Fetch Alias and Symbol"
   ]
  },
  {
   "cell_type": "code",
   "execution_count": 7,
   "id": "b6e53dc3",
   "metadata": {},
   "outputs": [],
   "source": [
    "BATCH_SIZE = 500\n",
    "SLEEP_TIME = 2  # Sleep for 2 seconds between requests\n",
    "MAX_RETRIES = 3  # Maximum number of retries for failed requests\n",
    "\n",
    "def retrieve_gene_info(input_file, output_file):\n",
    "    gene_ids = set()\n",
    "    existing_gene_ids = set()\n",
    "    output_rows = []\n",
    "    total_gene_ids_retrieved = 0\n",
    "\n",
    "    # Read gene IDs from the input CSV, skipping the header row\n",
    "    with open(input_file) as f:\n",
    "        reader = csv.reader(f)\n",
    "        header = next(reader)  # Skip the header row\n",
    "        gene_id_index = header.index('gene_id')  # Assuming 'gene_id' is a column name in the header\n",
    "\n",
    "        for row in reader:\n",
    "            gene_id = row[gene_id_index]\n",
    "            if gene_id not in gene_ids:\n",
    "                gene_ids.add(gene_id)\n",
    "\n",
    "    # Check for existing gene IDs in the output CSV\n",
    "    try:\n",
    "        with open(output_file) as f:\n",
    "            reader = csv.DictReader(f)\n",
    "            for row in reader:\n",
    "                existing_gene_ids.add(row['gene_id'])\n",
    "    except FileNotFoundError:\n",
    "        pass\n",
    "\n",
    "    # Remove existing gene IDs from the list of gene IDs to retrieve\n",
    "    gene_ids_to_retrieve = gene_ids - existing_gene_ids\n",
    "\n",
    "    start = 0\n",
    "    end = BATCH_SIZE\n",
    "    batch_number = 0\n",
    "\n",
    "    while start < len(gene_ids_to_retrieve):\n",
    "        batch_number += 1\n",
    "        batch_ids = list(gene_ids_to_retrieve)[start:end]\n",
    "\n",
    "        query_params = {\n",
    "            'ids': ','.join(batch_ids),\n",
    "            'fields': 'symbol,alias'\n",
    "        }\n",
    "\n",
    "        retries = 0\n",
    "        while retries < MAX_RETRIES:\n",
    "            response = requests.post('https://mygene.info/v3/gene', json=query_params)\n",
    "            if response.status_code == 200:\n",
    "                genes = response.json()\n",
    "                total_gene_ids_retrieved += len(genes)\n",
    "                break\n",
    "            else:\n",
    "                retries += 1\n",
    "                time.sleep(SLEEP_TIME)\n",
    "\n",
    "        for gene in genes:\n",
    "            gene_id = gene.get('query')\n",
    "            symbol = gene.get('symbol')\n",
    "            alias = ','.join(gene.get('alias', []))\n",
    "\n",
    "            # Check if symbol or alias is missing and replace with \"None\"\n",
    "            if not symbol:\n",
    "                symbol = \"None\"\n",
    "            if not alias:\n",
    "                alias = \"None\"\n",
    "\n",
    "            output_rows.append({\n",
    "                'gene_id': gene_id,  # Use 'query' to get the gene ID\n",
    "                'symbol': symbol,\n",
    "                'alias': alias\n",
    "            })\n",
    "\n",
    "        start = end\n",
    "        end += BATCH_SIZE\n",
    "\n",
    "    with open(output_file, 'a', newline='') as f:\n",
    "        writer = csv.DictWriter(f, ['gene_id', 'symbol', 'alias'])\n",
    "        if batch_number == 1:\n",
    "            writer.writeheader()  # Write header only if it's the first batch\n",
    "        writer.writerows(output_rows)\n",
    "\n",
    "    print(f\"Total Batches Processed: {batch_number}\")\n",
    "    print(f\"Total Gene IDs Retrieved: {total_gene_ids_retrieved}\")\n",
    "    print(f\"Gene IDs Skipped (Already Retrieved): {len(existing_gene_ids)}\")"
   ]
  },
  {
   "cell_type": "code",
   "execution_count": 8,
   "id": "dcac95d5",
   "metadata": {},
   "outputs": [
    {
     "name": "stdout",
     "output_type": "stream",
     "text": [
      "Total Batches Processed: 0\n",
      "Total Gene IDs Retrieved: 0\n",
      "Gene IDs Skipped (Already Retrieved): 391\n"
     ]
    }
   ],
   "source": [
    "# Usage\n",
    "retrieve_gene_info('filtered_gene_data.csv', 'results.csv')"
   ]
  },
  {
   "cell_type": "code",
   "execution_count": null,
   "id": "0aa7d5bb",
   "metadata": {},
   "outputs": [],
   "source": [
    "# Combile in one csc"
   ]
  },
  {
   "cell_type": "code",
   "execution_count": 9,
   "id": "b82396b8",
   "metadata": {},
   "outputs": [
    {
     "name": "stdout",
     "output_type": "stream",
     "text": [
      "Combined data saved to combined_data.csv.\n"
     ]
    }
   ],
   "source": [
    "input_file1 = 'filtered_gene_data.csv'\n",
    "input_file2 = 'results.csv'\n",
    "output_file = 'combined_data.csv'\n",
    "\n",
    "# Create a dictionary to store gene information from the second CSV\n",
    "gene_info = {}\n",
    "\n",
    "# Read data from the second CSV (results.csv)\n",
    "with open(input_file2) as f:\n",
    "    reader = csv.DictReader(f)\n",
    "    for row in reader:\n",
    "        gene_id = row['gene_id']\n",
    "        symbol = row['symbol']\n",
    "        alias = row['alias']\n",
    "        gene_info[gene_id] = {'symbol': symbol, 'alias': alias}\n",
    "\n",
    "# Create a new CSV file for the combined data\n",
    "with open(output_file, 'w', newline='') as f_out:\n",
    "    writer = csv.writer(f_out)\n",
    "    \n",
    "    writer.writerow(['pubmed_id', 'concept_name', 'count', 'gene_id', 'symbol', 'alias'])\n",
    "    \n",
    "    # Read data from the first CSV (filtered_gene_data.csv)\n",
    "    with open(input_file1) as f_in:\n",
    "        reader = csv.reader(f_in)\n",
    "        next(reader)  # Skip the header row\n",
    "        \n",
    "        for row in reader:\n",
    "            pubmed_id, concept_name, count, gene_id = row\n",
    "            gene_info_entry = gene_info.get(gene_id, {})\n",
    "            symbol = gene_info_entry.get('symbol', 'None')\n",
    "            alias = gene_info_entry.get('alias', 'None')\n",
    "            \n",
    "            # Write a row with combined data to the new CSV\n",
    "            writer.writerow([pubmed_id, concept_name, count, gene_id, symbol, alias])\n",
    "\n",
    "print(f\"Combined data saved to {output_file}.\")\n"
   ]
  },
  {
   "cell_type": "code",
   "execution_count": 10,
   "id": "aaebb0fa",
   "metadata": {},
   "outputs": [],
   "source": [
    "cd = pd.read_csv('combined_data.csv')"
   ]
  },
  {
   "cell_type": "code",
   "execution_count": 12,
   "id": "5694dd16",
   "metadata": {},
   "outputs": [
    {
     "name": "stdout",
     "output_type": "stream",
     "text": [
      "      pubmed_id                        concept_name  count  gene_id    symbol  \\\n",
      "1307    1672728                                drb1      5     3123  HLA-DRB1   \n",
      "1308    1672728                                 b18      4     4713    NDUFB7   \n",
      "1309    1672728                                sco1      1     6341      SCO1   \n",
      "1310    1673033   transforming growth factor beta 1      1     7040     TGFB1   \n",
      "1311    1673033                            tgf-beta      6     7039      TGFA   \n",
      "1312    1673033                          tgf-beta 1      2     7040     TGFB1   \n",
      "1313    1673033  retinoblastoma gene product (p105)      1     4790     NFKB1   \n",
      "1314    1673033                                 p60      1     7984   ARHGEF5   \n",
      "1315    1673792                                 p53      8     7157      TP53   \n",
      "1316    1673843                                 cd2     18      914       CD2   \n",
      "\n",
      "                                                  alias  \n",
      "1307                          DRB1,HLA-DR1B,HLA-DRB,SS1  \n",
      "1308                                 B18,CI-B18,MC1DN39  \n",
      "1309                                       MC4DN4,SCOD1  \n",
      "1310        CED,DPD1,IBDIMDE,LAP,TGF-beta1,TGFB,TGFbeta  \n",
      "1311                                            T,F,G,A  \n",
      "1312        CED,DPD1,IBDIMDE,LAP,TGF-beta1,TGFB,TGFbeta  \n",
      "1313  CVID12,EBP-1,KBF1,NF-kB,NF-kB1,NF-kappa-B1,NF-...  \n",
      "1314                                  GEF5,P60,TIM,TIM1  \n",
      "1315                          BCC7,BMFS5,LFS1,P53,TRP53  \n",
      "1316                                     LFA-2,SRBC,T11  \n"
     ]
    }
   ],
   "source": [
    "print(cd.tail(10))"
   ]
  },
  {
   "cell_type": "code",
   "execution_count": 14,
   "id": "71ec2721",
   "metadata": {},
   "outputs": [],
   "source": [
    "#Enriching the original data with additional gene symbol & alias information from an external API. "
   ]
  },
  {
   "cell_type": "code",
   "execution_count": null,
   "id": "a75bbb5a",
   "metadata": {},
   "outputs": [],
   "source": []
  }
 ],
 "metadata": {
  "kernelspec": {
   "display_name": "Python 3 (ipykernel)",
   "language": "python",
   "name": "python3"
  },
  "language_info": {
   "codemirror_mode": {
    "name": "ipython",
    "version": 3
   },
   "file_extension": ".py",
   "mimetype": "text/x-python",
   "name": "python",
   "nbconvert_exporter": "python",
   "pygments_lexer": "ipython3",
   "version": "3.9.12"
  }
 },
 "nbformat": 4,
 "nbformat_minor": 5
}
