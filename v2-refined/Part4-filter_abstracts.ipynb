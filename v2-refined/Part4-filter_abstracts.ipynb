{
 "cells": [
  {
   "cell_type": "code",
   "execution_count": 1,
   "id": "b0b08199",
   "metadata": {},
   "outputs": [],
   "source": [
    "#Start"
   ]
  },
  {
   "cell_type": "markdown",
   "id": "d5598c61",
   "metadata": {},
   "source": [
    "#### Code Descript\n",
    "\n",
    "The code loads the JSON file containing PubMed abstracts for PMIDs generated in Part 3. It converts this into a Pandas DataFrame with columns for PMID and Abstract text. It also loads the filtered SNP data TSV from Part 2. The mentions are converted to lowercase for case-insensitive matching.\n",
    "\n",
    "The abstracts are converted to a dictionary, also lowercased. For each row in the SNP data, it checks if the mention text is found in the corresponding abstract using this dictionary. Based on this, two lists are created - PMIDs with matches and without. After de-duplicating these lists, the code verifies all matching PMIDs exist in the abstracts DataFrame.\n",
    "\n",
    "Finally, it filters the abstracts DataFrame to only include rows with PMIDs that had matches. This filtered set of 107,631 abstracts with validated SNP mentions is saved to a new JSON file.\n",
    "\n",
    "Finally, it matches SNP mentions to abstracts, filters out non-matches, and saves the result containing verified abstracts with mutation mentions as saves into filtered_snp_abstracts.json"
   ]
  },
  {
   "cell_type": "code",
   "execution_count": 3,
   "id": "0b058980",
   "metadata": {},
   "outputs": [],
   "source": [
    "import pandas as pd\n",
    "import numpy as np"
   ]
  },
  {
   "cell_type": "code",
   "execution_count": 10,
   "id": "4e3cf58e",
   "metadata": {
    "scrolled": true
   },
   "outputs": [
    {
     "name": "stdout",
     "output_type": "stream",
     "text": [
      "         ID                                           Abstract\n",
      "0  26280318  11β-Hydroxylase deficiency (11OHD) represents ...\n",
      "1  18951437  Genetic testing often results in the finding o...\n",
      "2  21975197  The Vitamin Intervention for Stroke Prevention...\n",
      "3   8702993  We examined the structure-function relationshi...\n",
      "4  34386500  Inflammation is regulated by the host and is a...\n"
     ]
    }
   ],
   "source": [
    "# Input file after part 3\n",
    "json_file = 'snp_abstracts.json'\n",
    "\n",
    "snp_abstracts = pd.read_json(json_file, orient='index')\n",
    "snp_abstracts.columns = ['Abstract']\n",
    "snp_abstracts.reset_index(inplace=True)\n",
    "snp_abstracts.rename(columns={'index': 'ID'}, inplace=True)\n",
    "print(snp_abstracts.head())"
   ]
  },
  {
   "cell_type": "code",
   "execution_count": 15,
   "id": "2f8277f1",
   "metadata": {},
   "outputs": [
    {
     "name": "stdout",
     "output_type": "stream",
     "text": [
      "Null values per column:\n",
      "ID          0\n",
      "Abstract    0\n",
      "dtype: int64\n"
     ]
    }
   ],
   "source": [
    "null_per_column = snp_abstracts.isnull().sum()\n",
    "print(\"Null values per column:\")\n",
    "print(null_per_column)"
   ]
  },
  {
   "cell_type": "code",
   "execution_count": 16,
   "id": "7039fdd4",
   "metadata": {},
   "outputs": [
    {
     "name": "stdout",
     "output_type": "stream",
     "text": [
      "       PMID   Concept ID    Mentions Resource\n",
      "0  20635000  rs779184767       C243A    tmVar\n",
      "1  28956000  rs200771233         C>T    tmVar\n",
      "2  28956000   rs61741349  rs61741349    tmVar\n",
      "3  28956000    rs2071543    Gln49Lys    tmVar\n",
      "4  28956000   rs28940578  rs28940578    tmVar\n"
     ]
    }
   ],
   "source": [
    "tsv_file = 'filtered_snp_data.tsv'\n",
    "\n",
    "snp_df = pd.read_csv(tsv_file, delimiter='\\t')\n",
    "print(snp_df.head())  "
   ]
  },
  {
   "cell_type": "code",
   "execution_count": 17,
   "id": "339ced4f",
   "metadata": {},
   "outputs": [
    {
     "name": "stdout",
     "output_type": "stream",
     "text": [
      "Null values per column:\n",
      "PMID          0\n",
      "Concept ID    0\n",
      "Mentions      0\n",
      "Resource      0\n",
      "dtype: int64\n"
     ]
    }
   ],
   "source": [
    "# Sum of null values per column in snp_df\n",
    "null_per_column = snp_df.isnull().sum()\n",
    "print(\"Null values per column:\")\n",
    "print(null_per_column)"
   ]
  },
  {
   "cell_type": "code",
   "execution_count": 19,
   "id": "5b5424dd",
   "metadata": {},
   "outputs": [],
   "source": [
    "# Convert snp_abstracts to dictionary: key is ID and value is Abstract\n",
    "# Convert abstracts to lowercase for case in-sensitive serach\n",
    "abstracts_dict = snp_abstracts.set_index('ID')['Abstract'].str.lower().to_dict()\n",
    "\n",
    "# Convert mentions to lowercase for case-insensitive search\n",
    "snp_df['Mentions'] = snp_df['Mentions'].str.lower()\n",
    "\n",
    "# Check if each mention in snp_df is in the corresponding abstract in abstracts_dict\n",
    "snp_df['IsMentionInAbstract'] = snp_df.apply(lambda row: abstracts_dict.get(row['PMID'], '').find(row['Mentions']) != -1, axis=1)\n",
    "\n",
    "# matching_pmid and no_match_pmid lists based on the result\n",
    "matching_pmid = snp_df[snp_df['IsMentionInAbstract']]['PMID'].tolist()\n",
    "no_match_pmid = snp_df[~snp_df['IsMentionInAbstract']]['PMID'].tolist()\n",
    "\n",
    "# Cleanup: Drop the helper column\n",
    "snp_df.drop('IsMentionInAbstract', axis=1, inplace=True)"
   ]
  },
  {
   "cell_type": "code",
   "execution_count": 37,
   "id": "d09d61ca",
   "metadata": {},
   "outputs": [],
   "source": [
    "# Convert to sets to ensure unique PMIDs\n",
    "matching_pmid = list(set(matching_pmid))\n",
    "no_match_pmid = list(set(no_match_pmid))"
   ]
  },
  {
   "cell_type": "code",
   "execution_count": 38,
   "id": "ebcb32f5",
   "metadata": {},
   "outputs": [
    {
     "data": {
      "text/plain": [
       "107631"
      ]
     },
     "execution_count": 38,
     "metadata": {},
     "output_type": "execute_result"
    }
   ],
   "source": [
    "len(matching_pmid)"
   ]
  },
  {
   "cell_type": "code",
   "execution_count": null,
   "id": "69751a91",
   "metadata": {},
   "outputs": [],
   "source": [
    "#Check if all the PMID in matching_pmid exists in snp_abstracts."
   ]
  },
  {
   "cell_type": "code",
   "execution_count": 41,
   "id": "fbb7502b",
   "metadata": {},
   "outputs": [
    {
     "name": "stdout",
     "output_type": "stream",
     "text": [
      "True\n"
     ]
    }
   ],
   "source": [
    "# Convert PMIDs in snp_abstracts to a set\n",
    "abstracts_pmids = set(snp_abstracts['ID'])\n",
    "\n",
    "# Check if all PMIDs in matching_pmid are in snp_abstracts\n",
    "all_exist = set(matching_pmid).issubset(abstracts_pmids)\n",
    "\n",
    "print(all_exist)"
   ]
  },
  {
   "cell_type": "code",
   "execution_count": 45,
   "id": "9674f4c0",
   "metadata": {},
   "outputs": [
    {
     "name": "stdout",
     "output_type": "stream",
     "text": [
      "Abstracts that containing the snp mentions are saved in filtered_snp_abstracts.json\n",
      "Total Abstracts Saved 107631\n"
     ]
    }
   ],
   "source": [
    "# Filter the DataFrame\n",
    "filtered_abstracts = snp_abstracts[snp_abstracts['ID'].isin(matching_pmid)]\n",
    "# Save to result to file\n",
    "filtered_abstracts.to_json('filtered_snp_abstracts.json', orient='records', lines=True)\n",
    "print(f'Abstracts that containing the snp mentions are saved in filtered_snp_abstracts.json')\n",
    "print(f'Total Abstracts Saved {len(filtered_abstracts)}')"
   ]
  },
  {
   "cell_type": "code",
   "execution_count": null,
   "id": "2c970b1e",
   "metadata": {},
   "outputs": [],
   "source": [
    "#END"
   ]
  }
 ],
 "metadata": {
  "kernelspec": {
   "display_name": "Python 3 (ipykernel)",
   "language": "python",
   "name": "python3"
  },
  "language_info": {
   "codemirror_mode": {
    "name": "ipython",
    "version": 3
   },
   "file_extension": ".py",
   "mimetype": "text/x-python",
   "name": "python",
   "nbconvert_exporter": "python",
   "pygments_lexer": "ipython3",
   "version": "3.9.12"
  }
 },
 "nbformat": 4,
 "nbformat_minor": 5
}
