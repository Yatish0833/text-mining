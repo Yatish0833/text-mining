{
 "cells": [
  {
   "cell_type": "code",
   "execution_count": null,
   "id": "c80de2e9",
   "metadata": {
    "id": "c80de2e9"
   },
   "outputs": [],
   "source": [
    "#Start"
   ]
  },
  {
   "cell_type": "markdown",
   "id": "30c0b17d",
   "metadata": {
    "id": "30c0b17d"
   },
   "source": [
    "#### Code Summary\n",
    "\n",
    "The code imports necessary libraries like Bio and tqdm for fetching PubMed abstracts. It defines a PMIDFetcher class to handle caching and retrieving abstracts for given PMIDs.\n",
    "\n",
    "It loads a list of unique PMIDs from the filtered SNP data file generated in Part 2. Using the PMIDFetcher, it retrieves abstracts for these PMIDs by batch querying the NCBI API. Progress is shown using tqdm.\n",
    "\n",
    "Retrieved abstracts are cached to file as JSON. Stats are calculated:\n",
    "\n",
    "- Total PMIDs in the JSON file: 364,302 </br>\n",
    "- Total PMIDs with no abstracts: 9,425 </br>\n",
    "- Size of the JSON file: 383.99 MB </br>\n",
    "\n",
    "This code provides a way to efficiently fetch PubMed abstracts for a large set of PMIDs using the NCBI API and a caching system. It stores the results as a JSON file and provides metrics on the total PMIDs, missing abstracts, and file size."
   ]
  },
  {
   "cell_type": "code",
   "execution_count": null,
   "id": "EpnY5mcm13zA",
   "metadata": {
    "colab": {
     "base_uri": "https://localhost:8080/"
    },
    "id": "EpnY5mcm13zA",
    "outputId": "21fbaf4f-fe32-4171-eadc-0ead3c8d3db0"
   },
   "outputs": [
    {
     "name": "stdout",
     "output_type": "stream",
     "text": [
      "Drive already mounted at /content/drive/; to attempt to forcibly remount, call drive.mount(\"/content/drive/\", force_remount=True).\n"
     ]
    }
   ],
   "source": [
    "from google.colab import drive\n",
    "drive.mount('/content/drive/')"
   ]
  },
  {
   "cell_type": "code",
   "execution_count": null,
   "id": "607f3f18",
   "metadata": {
    "id": "607f3f18"
   },
   "outputs": [],
   "source": [
    "import json\n",
    "from Bio import Entrez\n",
    "from tqdm import tqdm\n",
    "import json\n",
    "import os"
   ]
  },
  {
   "cell_type": "code",
   "execution_count": null,
   "id": "980a2921",
   "metadata": {
    "id": "980a2921"
   },
   "outputs": [],
   "source": [
    "class PMIDFetcher:\n",
    "    def __init__(self, cache_filename=\"snp_abstracts.json\", api_key=None):\n",
    "        self.cache_filename = cache_filename\n",
    "        Entrez.email = \"saisiva002@gmail.com\"\n",
    "\n",
    "        if api_key:\n",
    "            Entrez.api_key = api_key\n",
    "\n",
    "        try:\n",
    "            with open(self.cache_filename, \"r\") as cache_file:\n",
    "                self.cached_abstracts = json.load(cache_file)\n",
    "        except FileNotFoundError:\n",
    "            self.cached_abstracts = {}\n",
    "\n",
    "    def fetch_abstracts(self, pmids):\n",
    "        # post the list of PMIDs using epost\n",
    "        post_handle = Entrez.epost(\"pubmed\", id=\",\".join(pmids))\n",
    "        post_results = Entrez.read(post_handle)\n",
    "        post_handle.close()\n",
    "\n",
    "        query_key = post_results[\"QueryKey\"]\n",
    "        webenv = post_results[\"WebEnv\"]\n",
    "\n",
    "        # fetch the results using efetch\n",
    "        fetch_handle = Entrez.efetch(db=\"pubmed\", rettype=\"abstract\", retmode=\"xml\", webenv=webenv, query_key=query_key)\n",
    "        fetch_results = Entrez.read(fetch_handle)\n",
    "        fetch_handle.close()\n",
    "\n",
    "        abstracts = {}\n",
    "        no_abstract_pmids = []\n",
    "        for article in fetch_results[\"PubmedArticle\"]:\n",
    "            pmid = article[\"MedlineCitation\"][\"PMID\"]\n",
    "            # Check if the 'Abstract' key is present\n",
    "            if \"Abstract\" in article[\"MedlineCitation\"][\"Article\"]:\n",
    "                abstract_text = article[\"MedlineCitation\"][\"Article\"][\"Abstract\"][\"AbstractText\"][0]\n",
    "                abstracts[pmid] = abstract_text\n",
    "            else:\n",
    "                no_abstract_pmids.append(pmid)\n",
    "\n",
    "        # Save PMIDs without abstracts to no_abstracts.tsv\n",
    "        with open(\"no_abstracts.tsv\", \"a\") as file:\n",
    "            for pmid in no_abstract_pmids:\n",
    "                file.write(pmid + '\\n')\n",
    "\n",
    "        return abstracts\n",
    "\n",
    "    def retrieve(self, pmids, limit=None):\n",
    "        pmids_to_fetch = [pmid for pmid in pmids if pmid not in self.cached_abstracts]\n",
    "\n",
    "        if limit:\n",
    "            pmids_to_fetch = pmids_to_fetch[:limit]\n",
    "\n",
    "        new_abstracts = 0\n",
    "        batch_size = 200\n",
    "\n",
    "        for i in tqdm(range(0, len(pmids_to_fetch), batch_size), desc=\"Fetching abstracts\"):\n",
    "            batch = pmids_to_fetch[i:i + batch_size]\n",
    "            abstracts = self.fetch_abstracts(batch)\n",
    "            self.cached_abstracts.update(abstracts)\n",
    "            new_abstracts += len(abstracts)\n",
    "\n",
    "            # Save to cache periodically\n",
    "            with open(self.cache_filename, \"w\") as cache_file:\n",
    "                json.dump(self.cached_abstracts, cache_file)\n",
    "\n",
    "        return new_abstracts"
   ]
  },
  {
   "cell_type": "code",
   "execution_count": null,
   "id": "c3f00b66",
   "metadata": {
    "colab": {
     "base_uri": "https://localhost:8080/"
    },
    "id": "c3f00b66",
    "outputId": "8b8a53fa-e02c-46aa-b054-1bf5bb9a022d"
   },
   "outputs": [
    {
     "name": "stdout",
     "output_type": "stream",
     "text": [
      "373734\n"
     ]
    }
   ],
   "source": [
    "#Input file from part 2\n",
    "filename = \"filtered_snp_data.tsv\"\n",
    "\n",
    "with open(filename, \"r\") as file:\n",
    "    next(file)  # Skip header\n",
    "    pmids = list(set(line.split(\"\\t\")[0] for line in file))  # Get Unique PMIDs\n",
    "\n",
    "print(len(pmids))"
   ]
  },
  {
   "cell_type": "code",
   "execution_count": null,
   "id": "0eeb3aae",
   "metadata": {
    "id": "0eeb3aae"
   },
   "outputs": [],
   "source": [
    "## Fetch PubMed Abstracts Here ##"
   ]
  },
  {
   "cell_type": "code",
   "execution_count": 8,
   "id": "0a3dd27c",
   "metadata": {
    "colab": {
     "base_uri": "https://localhost:8080/"
    },
    "id": "0a3dd27c",
    "outputId": "fe9cd41d-94d4-4e3c-b43e-7d2049d1a687"
   },
   "outputs": [
    {
     "metadata": {
      "tags": null
     },
     "name": "stdout",
     "output_type": "stream",
     "text": [
      "Fetching 373734 abstracts from Natinal Library of Medicine.\n"
     ]
    },
    {
     "name": "stderr",
     "output_type": "stream",
     "text": [
      "Fetching abstracts: 100%|██████████| 1869/1869 [2:14:29<00:00,  4.32s/it]"
     ]
    },
    {
     "name": "stdout",
     "output_type": "stream",
     "text": [
      "Retrieved 364302 new abstracts.\n"
     ]
    },
    {
     "name": "stderr",
     "output_type": "stream",
     "text": [
      "\n"
     ]
    }
   ],
   "source": [
    "print(f\"Fetching {len(pmids)} abstracts from Natinal Library of Medicine.\")\n",
    "\n",
    "#Fill the NCBI API Key\n",
    "ncbi_key = \"8cf8451ca098c39731c8c0b6c45b920bb208\"\n",
    "\n",
    "if __name__ == \"__main__\":\n",
    "    fetcher = PMIDFetcher(api_key=ncbi_key)\n",
    "    fetch_limit = len(pmids)  # Set limit #total pmid's\n",
    "    new_abstracts_count = fetcher.retrieve(pmids, limit=fetch_limit)\n",
    "    print(f\"Retrieved {new_abstracts_count} new abstracts.\")"
   ]
  },
  {
   "cell_type": "code",
   "execution_count": 9,
   "id": "746ea1b3",
   "metadata": {
    "id": "746ea1b3"
   },
   "outputs": [],
   "source": [
    "## Stats ##"
   ]
  },
  {
   "cell_type": "code",
   "execution_count": 11,
   "id": "2cbe96d2",
   "metadata": {
    "id": "2cbe96d2"
   },
   "outputs": [],
   "source": [
    "#Total PMID's & Skipped PMID's\n",
    "with open(\"snp_abstracts.json\", \"r\") as f:\n",
    "    data = json.load(f)\n",
    "\n",
    "with open(\"no_abstracts.tsv\", \"r\") as f:\n",
    "    no_abstract_pmids = [line.strip() for line in f.readlines()]\n",
    "\n",
    "total_pmids = len(data)\n",
    "total_no_abstract_pmids = len(no_abstract_pmids)\n",
    "\n",
    "file_size = os.path.getsize(\"snp_abstracts.json\")"
   ]
  },
  {
   "cell_type": "code",
   "execution_count": 12,
   "id": "0236942c",
   "metadata": {
    "colab": {
     "base_uri": "https://localhost:8080/"
    },
    "id": "0236942c",
    "outputId": "d8480bb5-ba93-48bb-e237-0c398bc6834d"
   },
   "outputs": [
    {
     "name": "stdout",
     "output_type": "stream",
     "text": [
      "Total PMIDs in the file: 364302\n",
      "Total PMIDs in with no_abstracts: 9425\n",
      "Size of the file: 383.99 MB\n"
     ]
    }
   ],
   "source": [
    "print(f\"Total PMIDs in the file: {total_pmids}\")\n",
    "print(f\"Total PMIDs in with no_abstracts: {total_no_abstract_pmids}\")\n",
    "\n",
    "print(f\"Size of the file: {file_size / (1024 * 1024):.2f} MB\")"
   ]
  },
  {
   "cell_type": "code",
   "execution_count": 1,
   "id": "86fb273c",
   "metadata": {
    "id": "86fb273c"
   },
   "outputs": [],
   "source": [
    "#END"
   ]
  },
  {
   "cell_type": "code",
   "execution_count": null,
   "id": "f2e22f5c",
   "metadata": {},
   "outputs": [],
   "source": []
  }
 ],
 "metadata": {
  "colab": {
   "provenance": []
  },
  "kernelspec": {
   "display_name": "Python 3 (ipykernel)",
   "language": "python",
   "name": "python3"
  },
  "language_info": {
   "codemirror_mode": {
    "name": "ipython",
    "version": 3
   },
   "file_extension": ".py",
   "mimetype": "text/x-python",
   "name": "python",
   "nbconvert_exporter": "python",
   "pygments_lexer": "ipython3",
   "version": "3.9.12"
  }
 },
 "nbformat": 4,
 "nbformat_minor": 5
}
