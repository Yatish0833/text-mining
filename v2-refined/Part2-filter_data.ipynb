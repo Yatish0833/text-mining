{
 "cells": [
  {
   "cell_type": "code",
   "execution_count": 1,
   "id": "6eccc00d",
   "metadata": {},
   "outputs": [],
   "source": [
    "#Start"
   ]
  },
  {
   "cell_type": "markdown",
   "id": "e378bfbc",
   "metadata": {},
   "source": [
    "#### Code Summary\n",
    "\n",
    "The code imports necessary libraries like pandas and processes mutation data from an input .gz file. It extracts specific columns like PMID, Concept ID, Mentions, and Resource into a DataFrame. After sampling and checking the data, filtering is done to keep only SNP mutation rows where the Concept ID matches an RSID format. \n",
    "\n",
    "Rows with null Mentions are removed after verification that the annotations are inconsistent. The filtered SNP data is written out to a .tsv file. \n",
    "\n",
    "Analysis is done on the filtered data to output statistics - total RSID annotations, unique PMIDs, and unique SNPs. This summarizes the workflow of loading mutation data, filtering to SNP mutations with valid annotations, removing inconsistent rows, and writing the cleaned data to file for downstream analysis.\n",
    "\n",
    "#### Output File Data Description\n",
    "\n",
    "The columns in the dataset are:\n",
    "\n",
    "i. PMID: PubMed abstract identifier </br>\n",
    "ii. Concept ID: Database identifier for the mutation, e.g. RSID for SNPs </br>\n",
    "iii. Mentions: Text mentions of the mutation concepts found in the abstract </br>\n",
    "iv. Resource: Sources of the annotation data, e.g. dbSNP, ClinVar, tmVar"
   ]
  },
  {
   "cell_type": "code",
   "execution_count": 2,
   "id": "2e191791",
   "metadata": {},
   "outputs": [],
   "source": [
    "import gzip\n",
    "import os\n",
    "import pandas as pd\n",
    "import warnings\n",
    "warnings.filterwarnings('ignore')"
   ]
  },
  {
   "cell_type": "code",
   "execution_count": 3,
   "id": "c0f86448",
   "metadata": {},
   "outputs": [],
   "source": [
    "# Input file names from part1-data_retrival.ipynb\n",
    "input_filename = 'mutation2pubtatorcentral.gz'"
   ]
  },
  {
   "cell_type": "code",
   "execution_count": 16,
   "id": "cd386a89",
   "metadata": {},
   "outputs": [],
   "source": [
    "max_cols = 5\n",
    "headers = \"PMID,Type,Concept ID,Mentions,Resource\".split(',')\n",
    "\n",
    "with gzip.open(input_filename, 'rt') as f:\n",
    "    df = pd.read_csv(f, sep='\\t', header=0, names=headers, usecols=range(max_cols))"
   ]
  },
  {
   "cell_type": "code",
   "execution_count": 25,
   "id": "e2be8890",
   "metadata": {
    "scrolled": true
   },
   "outputs": [
    {
     "name": "stdout",
     "output_type": "stream",
     "text": [
      "             PMID           Concept ID                   Mentions     Resource\n",
      "4065     26342000           rs30259360                 rs30259360  tmVar|dbSNP\n",
      "1117437  32266159             rs254560                   rs254560        tmVar\n",
      "5042467  12751820  tmVar:c|SUB|C|125|A                      C125A        tmVar\n",
      "286339   15616038            rs1501299                  rs1501299  tmVar|dbSNP\n",
      "4251750  33537542          rs762098236                   c.590T>C        tmVar\n",
      "2956850  23273425     tmVar:p|SUB|W||D  tryptophan with aspartate        tmVar\n",
      "1842858  24033266          rs144505461                        NaN      ClinVar\n",
      "4361421  21376568         rs1785363766                        NaN      ClinVar\n",
      "3180031  27490458     tmVar:c|FOR|10|C                   C for 10        tmVar\n",
      "544164   35849076  tmVar:p|SUB|N|156|Q                      N156Q        tmVar\n"
     ]
    }
   ],
   "source": [
    "print(df.sample(n=10))"
   ]
  },
  {
   "cell_type": "code",
   "execution_count": 27,
   "id": "6db127de",
   "metadata": {},
   "outputs": [
    {
     "data": {
      "text/plain": [
       "6361507"
      ]
     },
     "execution_count": 27,
     "metadata": {},
     "output_type": "execute_result"
    }
   ],
   "source": [
    "len(df)"
   ]
  },
  {
   "cell_type": "markdown",
   "id": "18e07397",
   "metadata": {},
   "source": [
    "The data as seen above is the combination of bothe Gene & Protien Mutation, Hence further filtering is performed."
   ]
  },
  {
   "cell_type": "code",
   "execution_count": 20,
   "id": "0df11aa5",
   "metadata": {},
   "outputs": [],
   "source": [
    "#Delete Type column\n",
    "df = df.drop('Type', axis=1)"
   ]
  },
  {
   "cell_type": "code",
   "execution_count": 35,
   "id": "e1170f05",
   "metadata": {},
   "outputs": [
    {
     "name": "stdout",
     "output_type": "stream",
     "text": [
      "             PMID    Concept ID     Mentions     Resource\n",
      "4435286  26332579   rs318236639  rs318236639        tmVar\n",
      "5925856  34936921     rs1558902    rs1558902        tmVar\n",
      "696974    9536098   rs897784116          NaN      ClinVar\n",
      "5546178  25741868   rs121434352          NaN      ClinVar\n",
      "1162816  36143166     rs7743373    rs7743373        tmVar\n",
      "6121804  18072964        rs7521       rs7521  tmVar|dbSNP\n",
      "4147382  28492532   rs751518628          NaN      ClinVar\n",
      "4925512  31822803    rs61757643     c.485G>A        tmVar\n",
      "4030384  28492532  rs1787875866          NaN      ClinVar\n",
      "4660034  35234610   rs797045013        T767I        tmVar\n"
     ]
    }
   ],
   "source": [
    "# Filtering rows where 'Concept ID' the RSID format\n",
    "snp_df = df[df['Concept ID'].str.match('^rs', case=False, na=False)]\n",
    "print(snp_df.sample(n=10))"
   ]
  },
  {
   "cell_type": "code",
   "execution_count": 36,
   "id": "58ceaeec",
   "metadata": {},
   "outputs": [
    {
     "data": {
      "text/plain": [
       "2650051"
      ]
     },
     "execution_count": 36,
     "metadata": {},
     "output_type": "execute_result"
    }
   ],
   "source": [
    "len(snp_df)"
   ]
  },
  {
   "cell_type": "code",
   "execution_count": 37,
   "id": "a139abdf",
   "metadata": {},
   "outputs": [
    {
     "name": "stdout",
     "output_type": "stream",
     "text": [
      "Null values per column:\n",
      "PMID                0\n",
      "Concept ID          0\n",
      "Mentions      1157211\n",
      "Resource            0\n",
      "dtype: int64\n",
      "\n",
      "\n"
     ]
    }
   ],
   "source": [
    "# Sum of null values per column in snp_df\n",
    "null_per_column = snp_df.isnull().sum()\n",
    "print(\"Null values per column:\")\n",
    "print(null_per_column)\n",
    "print(\"\\n\")"
   ]
  },
  {
   "cell_type": "code",
   "execution_count": 59,
   "id": "ac5a2ba3",
   "metadata": {},
   "outputs": [
    {
     "name": "stdout",
     "output_type": "stream",
     "text": [
      "             PMID    Concept ID Mentions Resource\n",
      "1980833  15157284     rs8179178      NaN    dbSNP\n",
      "5381142  25741868   rs986731225      NaN  ClinVar\n",
      "4144419  28492532  rs2078660025      NaN  ClinVar\n",
      "5550125  25741868  rs1560965164      NaN  ClinVar\n",
      "3990096  28492532   rs371280399      NaN  ClinVar\n",
      "3727534  28492532  rs1319798252      NaN  ClinVar\n",
      "2956876  29054425   rs137852801      NaN  ClinVar\n",
      "2945561  23006423    rs11668609      NaN    dbSNP\n",
      "3106687  15689448   rs121912935      NaN  ClinVar\n",
      "2651325  25637381    rs28936405      NaN  ClinVar\n"
     ]
    }
   ],
   "source": [
    "Null_mention_df = snp_df[snp_df['Mentions'].isnull()]\n",
    "print(Null_mention_df.sample(n=10))"
   ]
  },
  {
   "cell_type": "code",
   "execution_count": 60,
   "id": "3697a69c",
   "metadata": {},
   "outputs": [
    {
     "name": "stdout",
     "output_type": "stream",
     "text": [
      "<class 'pandas.core.frame.DataFrame'>\n",
      "Int64Index: 1157211 entries, 183 to 6361473\n",
      "Data columns (total 4 columns):\n",
      " #   Column      Non-Null Count    Dtype \n",
      "---  ------      --------------    ----- \n",
      " 0   PMID        1157211 non-null  int64 \n",
      " 1   Concept ID  1157211 non-null  object\n",
      " 2   Mentions    0 non-null        object\n",
      " 3   Resource    1157211 non-null  object\n",
      "dtypes: int64(1), object(3)\n",
      "memory usage: 44.1+ MB\n"
     ]
    }
   ],
   "source": [
    "Null_mention_df.info()"
   ]
  },
  {
   "cell_type": "markdown",
   "id": "5eff4ffe",
   "metadata": {},
   "source": [
    "After verification of various random PMID in Null_mention_df, we observed the annotations are inconsistant to attain the result. Hence we are removing rows if Mentions is null"
   ]
  },
  {
   "cell_type": "code",
   "execution_count": 61,
   "id": "618e782b",
   "metadata": {},
   "outputs": [
    {
     "data": {
      "text/plain": [
       "1492840"
      ]
     },
     "execution_count": 61,
     "metadata": {},
     "output_type": "execute_result"
    }
   ],
   "source": [
    "#filter snp_df\n",
    "snp_df = snp_df[snp_df['Mentions'].notnull()]\n",
    "len(snp_df)"
   ]
  },
  {
   "cell_type": "code",
   "execution_count": 63,
   "id": "30a69f0d",
   "metadata": {},
   "outputs": [
    {
     "name": "stdout",
     "output_type": "stream",
     "text": [
      "Filtered SNP Mutation data is stored in filtered_snp_data.tsv\n"
     ]
    }
   ],
   "source": [
    "#store processed data to tsv format\n",
    "output_file = 'filtered_snp_data.tsv'\n",
    "snp_df.to_csv(output_file, sep='\\t', index=False)\n",
    "print(f\"Filtered SNP Mutation data is stored in {output_file}\")"
   ]
  },
  {
   "cell_type": "code",
   "execution_count": 64,
   "id": "efeb5a29",
   "metadata": {},
   "outputs": [],
   "source": [
    "#Stats"
   ]
  },
  {
   "cell_type": "code",
   "execution_count": 65,
   "id": "e0ea9ba0",
   "metadata": {},
   "outputs": [
    {
     "name": "stdout",
     "output_type": "stream",
     "text": [
      "Total RSID annotations: 1492840\n",
      "Total unique PMID: 373734\n",
      "Total unique SNPs: 496218\n"
     ]
    }
   ],
   "source": [
    "total_lines = 0\n",
    "unique_pmids = set()\n",
    "unique_snps = set()\n",
    "\n",
    "with open(output_file, 'r') as tsv_file:\n",
    "    # Skip the header\n",
    "    next(tsv_file)\n",
    "    \n",
    "    # Process each line in the file\n",
    "    for line in tsv_file:\n",
    "        values = line.strip().split('\\t')\n",
    "        \n",
    "        # Increment the total RSID annotations count\n",
    "        total_lines += 1\n",
    "        \n",
    "        # Add the PMID to the set of unique PMIDs\n",
    "        unique_pmids.add(values[0])\n",
    "        \n",
    "        # Add the Concept ID (SNP) to the set of unique SNPs\n",
    "        unique_snps.add(values[1])\n",
    "\n",
    "# Calculated stats\n",
    "print(f\"Total RSID annotations: {total_lines}\")\n",
    "print(f\"Total unique PMID: {len(unique_pmids)}\")\n",
    "print(f\"Total unique SNPs: {len(unique_snps)}\")"
   ]
  },
  {
   "cell_type": "code",
   "execution_count": null,
   "id": "66436bf1",
   "metadata": {},
   "outputs": [],
   "source": [
    "# END"
   ]
  }
 ],
 "metadata": {
  "kernelspec": {
   "display_name": "Python 3 (ipykernel)",
   "language": "python",
   "name": "python3"
  },
  "language_info": {
   "codemirror_mode": {
    "name": "ipython",
    "version": 3
   },
   "file_extension": ".py",
   "mimetype": "text/x-python",
   "name": "python",
   "nbconvert_exporter": "python",
   "pygments_lexer": "ipython3",
   "version": "3.9.12"
  }
 },
 "nbformat": 4,
 "nbformat_minor": 5
}
