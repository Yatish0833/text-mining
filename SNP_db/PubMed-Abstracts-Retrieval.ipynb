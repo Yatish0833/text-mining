{
 "cells": [
  {
   "cell_type": "code",
   "execution_count": 58,
   "id": "c80de2e9",
   "metadata": {},
   "outputs": [],
   "source": [
    "import json\n",
    "from Bio import Entrez\n",
    "from tqdm import tqdm\n",
    "import json\n",
    "import os"
   ]
  },
  {
   "cell_type": "code",
   "execution_count": 59,
   "id": "980a2921",
   "metadata": {},
   "outputs": [],
   "source": [
    "class PMIDFetcher:\n",
    "    def __init__(self, cache_filename=\"cached_abstracts.json\", api_key=None):\n",
    "        self.cache_filename = cache_filename\n",
    "        Entrez.email = \"REPLACE EMAIL\"\n",
    "        if api_key:\n",
    "            Entrez.api_key = api_key\n",
    "\n",
    "        try:\n",
    "            with open(self.cache_filename, \"r\") as cache_file:\n",
    "                self.cached_abstracts = json.load(cache_file)\n",
    "        except FileNotFoundError:\n",
    "            self.cached_abstracts = {}\n",
    "\n",
    "    def fetch_abstracts(self, pmids):\n",
    "        # First, post the list of PMIDs using epost\n",
    "        post_handle = Entrez.epost(\"pubmed\", id=\",\".join(pmids))\n",
    "        post_results = Entrez.read(post_handle)\n",
    "        post_handle.close()\n",
    "\n",
    "        query_key = post_results[\"QueryKey\"]\n",
    "        webenv = post_results[\"WebEnv\"]\n",
    "\n",
    "        # Then, fetch the results using efetch\n",
    "        fetch_handle = Entrez.efetch(db=\"pubmed\", rettype=\"abstract\", retmode=\"xml\", webenv=webenv, query_key=query_key)\n",
    "        fetch_results = Entrez.read(fetch_handle)\n",
    "        fetch_handle.close()\n",
    "\n",
    "        abstracts = {}\n",
    "        no_abstract_pmids = []\n",
    "        for article in fetch_results[\"PubmedArticle\"]:\n",
    "            pmid = article[\"MedlineCitation\"][\"PMID\"]\n",
    "            # Check if the 'Abstract' key is present\n",
    "            if \"Abstract\" in article[\"MedlineCitation\"][\"Article\"]:\n",
    "                abstract_text = article[\"MedlineCitation\"][\"Article\"][\"Abstract\"][\"AbstractText\"][0]\n",
    "                abstracts[pmid] = abstract_text\n",
    "            else:\n",
    "                no_abstract_pmids.append(pmid)\n",
    "\n",
    "        # Save PMIDs without abstracts to no_abstract.tsv\n",
    "        with open(\"no_abstract.tsv\", \"a\") as file:\n",
    "            for pmid in no_abstract_pmids:\n",
    "                file.write(pmid + '\\n')\n",
    "\n",
    "        return abstracts\n",
    "\n",
    "    def retrieve(self, pmids, limit=None):\n",
    "        pmids_to_fetch = [pmid for pmid in pmids if pmid not in self.cached_abstracts]\n",
    "        \n",
    "        if limit:\n",
    "            pmids_to_fetch = pmids_to_fetch[:limit]\n",
    "\n",
    "        new_abstracts = 0\n",
    "        batch_size = 200\n",
    "        for i in tqdm(range(0, len(pmids_to_fetch), batch_size), desc=\"Fetching abstracts\"):\n",
    "            batch = pmids_to_fetch[i:i + batch_size]\n",
    "            abstracts = self.fetch_abstracts(batch)\n",
    "            self.cached_abstracts.update(abstracts)\n",
    "            new_abstracts += len(abstracts)\n",
    "\n",
    "            # Save to cache periodically\n",
    "            with open(self.cache_filename, \"w\") as cache_file:\n",
    "                json.dump(self.cached_abstracts, cache_file)\n",
    "        \n",
    "        return new_abstracts\n",
    "    "
   ]
  },
  {
   "cell_type": "code",
   "execution_count": 60,
   "id": "c3f00b66",
   "metadata": {},
   "outputs": [],
   "source": [
    "def read_pmids_from_file(filename=\"snp_mutation_data.tsv\"):\n",
    "    with open(filename, \"r\") as file:\n",
    "        next(file)  # Skip header\n",
    "        pmids = list(set(line.split(\"\\t\")[0] for line in file))  # Unique PMIDs\n",
    "    return pmids\n"
   ]
  },
  {
   "cell_type": "code",
   "execution_count": null,
   "id": "0eeb3aae",
   "metadata": {},
   "outputs": [],
   "source": [
    "## FETCH HERE ##"
   ]
  },
  {
   "cell_type": "code",
   "execution_count": 53,
   "id": "0a3dd27c",
   "metadata": {},
   "outputs": [
    {
     "name": "stderr",
     "output_type": "stream",
     "text": [
      "Fetching abstracts: 100%|██████████████████████████████████████████████████████████| 391/391 [1:20:44<00:00, 12.39s/it]"
     ]
    },
    {
     "name": "stdout",
     "output_type": "stream",
     "text": [
      "Retrieved 62453 new abstracts.\n"
     ]
    },
    {
     "name": "stderr",
     "output_type": "stream",
     "text": [
      "\n"
     ]
    }
   ],
   "source": [
    "if __name__ == \"__main__\":\n",
    "    # Using API key\n",
    "    fetcher = PMIDFetcher(api_key=\"REPLACE API KEY\")\n",
    "    pmids = read_pmids_from_file()\n",
    "    limit = 10000  # Set limit\n",
    "    new_abstracts_count = fetcher.retrieve(pmids, limit=limit)\n",
    "    print(f\"Retrieved {new_abstracts_count} new abstracts.\")"
   ]
  },
  {
   "cell_type": "code",
   "execution_count": 61,
   "id": "746ea1b3",
   "metadata": {},
   "outputs": [],
   "source": [
    "## Stats ##"
   ]
  },
  {
   "cell_type": "code",
   "execution_count": 62,
   "id": "2cbe96d2",
   "metadata": {},
   "outputs": [],
   "source": [
    "#Total PMID's & Skipped PMID's\n",
    "with open(\"cached_abstracts.json\", \"r\") as f:\n",
    "    data = json.load(f)\n",
    "\n",
    "with open(\"no_abstract.tsv\", \"r\") as f:\n",
    "    no_abstract_pmids = [line.strip() for line in f.readlines()]\n",
    "    \n",
    "total_pmids = len(data)    \n",
    "total_no_abstract_pmids = len(no_abstract_pmids)\n",
    "\n",
    "file_size = os.path.getsize(\"cached_abstracts.json\")"
   ]
  },
  {
   "cell_type": "code",
   "execution_count": 63,
   "id": "0236942c",
   "metadata": {},
   "outputs": [
    {
     "name": "stdout",
     "output_type": "stream",
     "text": [
      "Total PMIDs in the file ##FETCH-SUCESS##: 429985\n",
      "Total PMIDs in with no_abstracts ##FETCH-SKIPPED##: 78364\n",
      "Size of the file: 450.58 MB\n"
     ]
    }
   ],
   "source": [
    "print(f\"Total PMIDs in the file ##FETCH-SUCESS##: {total_pmids}\")\n",
    "print(f\"Total PMIDs in with no_abstracts ##FETCH-SKIPPED##: {total_no_abstract_pmids}\")\n",
    "\n",
    "print(f\"Size of the file: {file_size / (1024 * 1024):.2f} MB\")\n"
   ]
  },
  {
   "cell_type": "code",
   "execution_count": null,
   "id": "0c6b7a8c",
   "metadata": {},
   "outputs": [],
   "source": []
  },
  {
   "cell_type": "code",
   "execution_count": 64,
   "id": "9d04d5ea",
   "metadata": {},
   "outputs": [],
   "source": [
    "#Read PubMed Abstract Fetcher Tool Summary.md"
   ]
  },
  {
   "cell_type": "code",
   "execution_count": null,
   "id": "86fb273c",
   "metadata": {},
   "outputs": [],
   "source": []
  }
 ],
 "metadata": {
  "kernelspec": {
   "display_name": "Python 3 (ipykernel)",
   "language": "python",
   "name": "python3"
  },
  "language_info": {
   "codemirror_mode": {
    "name": "ipython",
    "version": 3
   },
   "file_extension": ".py",
   "mimetype": "text/x-python",
   "name": "python",
   "nbconvert_exporter": "python",
   "pygments_lexer": "ipython3",
   "version": "3.9.12"
  }
 },
 "nbformat": 4,
 "nbformat_minor": 5
}
